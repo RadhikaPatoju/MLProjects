{
  "nbformat": 4,
  "nbformat_minor": 0,
  "metadata": {
    "colab": {
      "provenance": [],
      "mount_file_id": "1guC2IZO5XZkQ-PAoHJHcneX36rUv2Ddm",
      "authorship_tag": "ABX9TyNxhAqOmWdPibXLEVmHwShq",
      "include_colab_link": true
    },
    "kernelspec": {
      "name": "python3",
      "display_name": "Python 3"
    },
    "language_info": {
      "name": "python"
    }
  },
  "cells": [
    {
      "cell_type": "markdown",
      "metadata": {
        "id": "view-in-github",
        "colab_type": "text"
      },
      "source": [
        "<a href=\"https://colab.research.google.com/github/RadhikaPatoju/MLProjects/blob/main/translator.ipynb\" target=\"_parent\"><img src=\"https://colab.research.google.com/assets/colab-badge.svg\" alt=\"Open In Colab\"/></a>"
      ]
    },
    {
      "cell_type": "code",
      "source": [
        "!pip install pyfasttext"
      ],
      "metadata": {
        "colab": {
          "base_uri": "https://localhost:8080/"
        },
        "id": "Kcl6bqnZyFKT",
        "outputId": "fcd5002b-79b5-4ba7-9e63-3a84bde8ffb5"
      },
      "execution_count": 2,
      "outputs": [
        {
          "output_type": "stream",
          "name": "stdout",
          "text": [
            "Collecting pyfasttext\n",
            "  Downloading pyfasttext-0.4.6.tar.gz (244 kB)\n",
            "\u001b[2K     \u001b[90m━━━━━━━━━━━━━━━━━━━━━━━━━━━━━━━━━━━━━━━━\u001b[0m \u001b[32m244.7/244.7 kB\u001b[0m \u001b[31m2.1 MB/s\u001b[0m eta \u001b[36m0:00:00\u001b[0m\n",
            "\u001b[?25h  Preparing metadata (setup.py) ... \u001b[?25l\u001b[?25hdone\n",
            "Requirement already satisfied: future in /usr/local/lib/python3.10/dist-packages (from pyfasttext) (0.18.3)\n",
            "Collecting cysignals (from pyfasttext)\n",
            "  Using cached cysignals-1.11.4-cp310-cp310-manylinux_2_17_x86_64.manylinux2014_x86_64.whl (1.1 MB)\n",
            "Requirement already satisfied: numpy in /usr/local/lib/python3.10/dist-packages (from pyfasttext) (1.23.5)\n",
            "Building wheels for collected packages: pyfasttext\n",
            "  Building wheel for pyfasttext (setup.py) ... \u001b[?25l\u001b[?25hdone\n",
            "  Created wheel for pyfasttext: filename=pyfasttext-0.4.6-cp310-cp310-linux_x86_64.whl size=2033015 sha256=deba01acb567696562da511d3780809552f1ed997dbdac624d8899edb6a4675f\n",
            "  Stored in directory: /root/.cache/pip/wheels/a1/1e/10/0df99679118ea1dfa664f0b4fd2b906344f885e278563ae341\n",
            "Successfully built pyfasttext\n",
            "Installing collected packages: cysignals, pyfasttext\n",
            "Successfully installed cysignals-1.11.4 pyfasttext-0.4.6\n"
          ]
        }
      ]
    },
    {
      "cell_type": "code",
      "execution_count": 3,
      "metadata": {
        "id": "puyH86EspdsK"
      },
      "outputs": [],
      "source": [
        "import pandas as pd\n",
        "from gensim.models import Word2Vec\n",
        "from pyfasttext import FastText"
      ]
    },
    {
      "cell_type": "code",
      "source": [
        "data=pd.read_table('data.txt',header=None)"
      ],
      "metadata": {
        "id": "ZP9cRN8Vipt7"
      },
      "execution_count": 6,
      "outputs": []
    },
    {
      "cell_type": "code",
      "source": [
        "sentences=data[0].tolist()"
      ],
      "metadata": {
        "id": "VvG-Vzv8k7cv"
      },
      "execution_count": 7,
      "outputs": []
    },
    {
      "cell_type": "code",
      "source": [
        "sent=[]\n",
        "for i in range(len(sentences)):\n",
        "  sent.append(sentences[i].split())"
      ],
      "metadata": {
        "id": "so5dE0yNoAWN"
      },
      "execution_count": 8,
      "outputs": []
    },
    {
      "cell_type": "code",
      "source": [
        "wvmodel=Word2Vec(sent, vector_size=500, window=1, min_count=1)"
      ],
      "metadata": {
        "id": "GIvE7DdRoFqi"
      },
      "execution_count": 9,
      "outputs": []
    },
    {
      "cell_type": "code",
      "source": [
        "word=['yuDizWira','BIma','arjuna','vAsudeva']"
      ],
      "metadata": {
        "id": "312V4OELiXr7"
      },
      "execution_count": 10,
      "outputs": []
    },
    {
      "cell_type": "code",
      "source": [
        "for i in range(len(word)):\n",
        "  print('--------------')\n",
        "  print('\\n')\n",
        "  similar=wvmodel.wv.most_similar(word[i],topn=10)\n",
        "  print(word[i],\"\\n\")\n",
        "  for j in range(len(similar)):\n",
        "    print(similar[j][0])"
      ],
      "metadata": {
        "colab": {
          "base_uri": "https://localhost:8080/"
        },
        "id": "oNxqIyrmiyec",
        "outputId": "811541ea-782e-4eb7-bfbf-adb2f86eb17f"
      },
      "execution_count": 11,
      "outputs": [
        {
          "output_type": "stream",
          "name": "stdout",
          "text": [
            "--------------\n",
            "\n",
            "\n",
            "yuDizWira \n",
            "\n",
            "drupada\n",
            "nala\n",
            "DftarAzwra\n",
            "droRa\n",
            "vasizWa\n",
            "vAsudeva\n",
            "drOpadI\n",
            "prAYjali\n",
            "janamejaya\n",
            "damayantI\n",
            "--------------\n",
            "\n",
            "\n",
            "BIma \n",
            "\n",
            "BImasena\n",
            "saMkruD\n",
            "rakzas\n",
            "kapi\n",
            "aBidru\n",
            "kumBakarRa\n",
            "kruD\n",
            "rAkzasa\n",
            "hanumant\n",
            "arjuna\n",
            "--------------\n",
            "\n",
            "\n",
            "arjuna \n",
            "\n",
            "hanumant\n",
            "droRa\n",
            "viBIzaRa\n",
            "drupada\n",
            "mAtali\n",
            "vismi\n",
            "pAYcAla\n",
            "duryoDana\n",
            "BImasena\n",
            "prahasta\n",
            "--------------\n",
            "\n",
            "\n",
            "vAsudeva \n",
            "\n",
            "vyAsa\n",
            "Bo\n",
            "vidura\n",
            "drOpadI\n",
            "jaratkAru\n",
            "svayamBu\n",
            "janArdana\n",
            "prAYjali\n",
            "Bfgu\n",
            "kfzRadvEpAyana\n"
          ]
        }
      ]
    }
  ]
}